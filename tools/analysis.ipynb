{
 "cells": [
  {
   "attachments": {},
   "cell_type": "markdown",
   "metadata": {},
   "source": [
    "This Jupyter notebook includes some helpful Python code for visualizing and testing the UQ-ROM fix code."
   ]
  },
  {
   "cell_type": "code",
   "execution_count": 1,
   "metadata": {},
   "outputs": [],
   "source": [
    "# importing necessary libraries\n",
    "\n",
    "import numpy as np\n",
    "import matplotlib.pyplot as plt\n",
    "from dump import dump"
   ]
  },
  {
   "attachments": {},
   "cell_type": "markdown",
   "metadata": {},
   "source": [
    "**Energy Function**\n",
    "\n",
    "The literature on POD model reduction uses the following equation as a reference for the error created by reducing the order of a system. This is not a direct calcualtion of error, but instead captures the decrease in the eigenvalues, which increases less error.\n",
    "\n",
    "$$E(l) = \\frac{\\sum^l_{i=1} \\lambda_i}{\\sum^L_{i=1} \\lambda_i}$$\n",
    "\n",
    "where $l$ is the rank, and $L$ is the total rank."
   ]
  },
  {
   "cell_type": "code",
   "execution_count": 2,
   "metadata": {},
   "outputs": [],
   "source": [
    "# read and graph eigenvalue energy\n",
    "\n",
    "\n",
    "def graph_eigenvalues(*robfiles, **kwargs):\n",
    "  \"\"\" Graphs the eigenvalue energy for a given list of robfiles. \n",
    "      The keyword argument 'legend' adds a legend to the graph. \"\"\"\n",
    "\n",
    "  for filename in robfiles:\n",
    "    # find number of lines\n",
    "    num_lines = sum(1 for _ in open(filename))\n",
    "\n",
    "    # eigenvalues are singular values squared\n",
    "    eigvals = np.loadtxt(filename, skiprows=num_lines - 1) ** 2\n",
    "\n",
    "    # plot the energy\n",
    "    plt.plot((1 - np.cumsum(eigvals)/np.sum(eigvals)))\n",
    "\n",
    "  plt.yscale('log')\n",
    "\n",
    "  if ('legend' in kwargs.keys()):\n",
    "    plt.legend(kwargs['legend'])\n",
    "\n",
    "  plt.xlabel(\"Rank\")\n",
    "  plt.ylabel(\"Energy (%)\")\n",
    "  \n",
    "  plt.show()"
   ]
  },
  {
   "attachments": {},
   "cell_type": "markdown",
   "metadata": {},
   "source": [
    "**Dump Object**\n",
    "\n",
    "I used the `dump.py` Python script from `Pizza.py` to process and visualize my dump files. See `dump.py` for examples of usage. NOTE: `dump.py` was not written in Python 3, so there are still a few areas where I have not updated the code."
   ]
  },
  {
   "cell_type": "code",
   "execution_count": 4,
   "metadata": {},
   "outputs": [],
   "source": [
    "# read dump file to Dump object\n",
    "\n",
    "def read_dump(*dumpfiles):\n",
    "  models = []\n",
    "\n",
    "  for dumpfile in dumpfiles:\n",
    "    model = dump(dumpfile)\n",
    "    model.sort()\n",
    "    models.append(model)\n",
    "  \n",
    "  return models"
   ]
  }
 ],
 "metadata": {
  "kernelspec": {
   "display_name": "base",
   "language": "python",
   "name": "python3"
  },
  "language_info": {
   "codemirror_mode": {
    "name": "ipython",
    "version": 3
   },
   "file_extension": ".py",
   "mimetype": "text/x-python",
   "name": "python",
   "nbconvert_exporter": "python",
   "pygments_lexer": "ipython3",
   "version": "3.10.9"
  },
  "orig_nbformat": 4
 },
 "nbformat": 4,
 "nbformat_minor": 2
}
